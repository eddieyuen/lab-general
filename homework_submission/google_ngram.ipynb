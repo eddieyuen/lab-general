{
 "cells": [
  {
   "cell_type": "code",
   "execution_count": 5,
   "metadata": {},
   "outputs": [
    {
     "name": "stdout",
     "output_type": "stream",
     "text": [
      "[('Albert Einstein', [3.3587738812457246e-07, 2.8953215291949164e-07, 2.4798362119327066e-07, 2.93049197352957e-07, 3.6493838706519455e-07, 4.6416840859819786e-07, 4.917657747682824e-07, 4.0416182400804246e-07, 4.6641520157209015e-07, 5.401989824349585e-07, 5.701620580111921e-07]), ('Isaac Newton', [4.2789102394635847e-07, 3.473248284535657e-07, 3.0582006615986757e-07, 3.551940892521088e-07, 3.513895308060455e-07, 2.8724790013257007e-07, 3.866260271934152e-07, 3.6628674138228234e-07, 3.8941905700085044e-07, 4.1174249076902925e-07, 3.909416079750372e-07])]\n"
     ]
    }
   ],
   "source": [
    "import requests\n",
    "import urllib\n",
    "\n",
    "def runQuery(query, start_year=1950,\n",
    "             end_year=1960, corpus=26,\n",
    "             smoothing=0):\n",
    "\n",
    "    # converting a regular string to\n",
    "    # the standard URL format\n",
    "    # eg: \"geeks for,geeks\" will\n",
    "    # convert to \"geeks%20for%2Cgeeks\"\n",
    "    query = urllib.parse.quote(query)\n",
    "\n",
    "    # creating the URL\n",
    "    url = 'https://books.google.com/ngrams/json?content=' + query + '&year_start=' + str(start_year) + '&year_end=' + str(end_year) + '&corpus=' + str(corpus) + '&smoothing=' + str(smoothing) + ''\n",
    "\n",
    "    # requesting data from the above url\n",
    "    response = requests.get(url)\n",
    "\n",
    "    # extracting the json data from the response we got\n",
    "    output = response.json()\n",
    "\n",
    "    # creating a list to store the ngram data\n",
    "    return_data = []\n",
    "\n",
    "    if len(output) == 0:\n",
    "        # if no data returned from site,\n",
    "        # print the following statement\n",
    "        return \"No data available for this Ngram.\"\n",
    "    else:\n",
    "        # if data returned from site,\n",
    "        # store the data in return_data list\n",
    "        for num in range(len(output)):\n",
    "\n",
    "              # getting the name\n",
    "            return_data.append((output[num]['ngram'],\n",
    "\n",
    "                                # getting ngram data\n",
    "                                output[num]['timeseries'])\n",
    "                               )\n",
    "\n",
    "    return return_data\n",
    "\n",
    "query = \"Albert Einstein,Isaac Newton\"\n",
    "print(runQuery(query))"
   ]
  }
 ],
 "metadata": {
  "kernelspec": {
   "display_name": "py311",
   "language": "python",
   "name": "python3"
  },
  "language_info": {
   "codemirror_mode": {
    "name": "ipython",
    "version": 3
   },
   "file_extension": ".py",
   "mimetype": "text/x-python",
   "name": "python",
   "nbconvert_exporter": "python",
   "pygments_lexer": "ipython3",
   "version": "3.11.5"
  }
 },
 "nbformat": 4,
 "nbformat_minor": 2
}
